{
 "cells": [
  {
   "cell_type": "markdown",
   "metadata": {},
   "source": [
    "# 3.3 파이토치에서의 경사하강법"
   ]
  },
  {
   "cell_type": "code",
   "execution_count": 1,
   "metadata": {},
   "outputs": [],
   "source": [
    "import torch"
   ]
  },
  {
   "cell_type": "code",
   "execution_count": 2,
   "metadata": {},
   "outputs": [],
   "source": [
    "X = torch.Tensor(2, 3)"
   ]
  },
  {
   "cell_type": "code",
   "execution_count": 3,
   "metadata": {},
   "outputs": [
    {
     "data": {
      "text/plain": [
       "tensor([[0., 0., 0.],\n",
       "        [0., 0., 0.]])"
      ]
     },
     "execution_count": 3,
     "metadata": {},
     "output_type": "execute_result"
    }
   ],
   "source": [
    "X"
   ]
  },
  {
   "cell_type": "code",
   "execution_count": 5,
   "metadata": {},
   "outputs": [],
   "source": [
    "X = torch.tensor([[1, 2, 3], [4, 5, 6]])"
   ]
  },
  {
   "cell_type": "code",
   "execution_count": 6,
   "metadata": {},
   "outputs": [
    {
     "data": {
      "text/plain": [
       "tensor([[1, 2, 3],\n",
       "        [4, 5, 6]])"
      ]
     },
     "execution_count": 6,
     "metadata": {},
     "output_type": "execute_result"
    }
   ],
   "source": [
    "X"
   ]
  },
  {
   "cell_type": "code",
   "execution_count": 7,
   "metadata": {},
   "outputs": [],
   "source": [
    "# requires_grad : 이 텐서에 대한 기울기를 저장할지 여부\n",
    "x_tensor = torch.tensor(data=[2.0, 3.0], requires_grad=True)"
   ]
  },
  {
   "cell_type": "markdown",
   "metadata": {},
   "source": [
    "$z=2x^2 + 3$라는 식에서 $x$의 기울기를 구하는 코드<br>"
   ]
  },
  {
   "cell_type": "code",
   "execution_count": 9,
   "metadata": {},
   "outputs": [
    {
     "name": "stdout",
     "output_type": "stream",
     "text": [
      "tensor([ 8., 12.]) None None\n"
     ]
    }
   ],
   "source": [
    "import torch\n",
    "\n",
    "# x라는 텐서 생성하며 기울기를 계산하도록 지정\n",
    "x = torch.tensor(data=[2.0, 3.0], requires_grad=True)\n",
    "y = x**2\n",
    "z = 2*y + 3\n",
    "\n",
    "target = torch.tensor([3.0, 4.0])\n",
    "loss = torch.sum(torch.abs(z-target))\n",
    "\n",
    "# 연산 그래프를 쭉 따라가면서 잎노드 x에 대한 기울기 계산\n",
    "loss.backward()\n",
    "\n",
    "print(x.grad, y.grad, z.grad)"
   ]
  },
  {
   "cell_type": "markdown",
   "metadata": {},
   "source": [
    "선형회귀분석 모델을 만들어서 기울기를 계산하고 w, b를 업데이트하는 코드"
   ]
  },
  {
   "cell_type": "code",
   "execution_count": 10,
   "metadata": {},
   "outputs": [
    {
     "name": "stdout",
     "output_type": "stream",
     "text": [
      "tensor(14.5690)\n",
      "tensor(12.3515)\n",
      "tensor(10.1835)\n",
      "tensor(8.1505)\n",
      "tensor(6.2707)\n",
      "tensor(4.8174)\n",
      "tensor(4.1206)\n",
      "tensor(3.8030)\n",
      "tensor(3.6123)\n",
      "tensor(3.4820)\n",
      "tensor(3.3758)\n",
      "tensor(3.2826)\n",
      "tensor(3.1989)\n",
      "tensor(3.1201)\n",
      "tensor(3.0454)\n",
      "tensor(2.9722)\n",
      "tensor(2.9012)\n",
      "tensor(2.8341)\n",
      "tensor(2.7696)\n",
      "tensor(2.7073)\n",
      "tensor(2.6474)\n",
      "tensor(2.5895)\n",
      "tensor(2.5328)\n",
      "tensor(2.4778)\n",
      "tensor(2.4247)\n",
      "tensor(2.3739)\n",
      "tensor(2.3259)\n",
      "tensor(2.2812)\n",
      "tensor(2.2384)\n",
      "tensor(2.1981)\n",
      "tensor(2.1595)\n",
      "tensor(2.1229)\n",
      "tensor(2.0890)\n",
      "tensor(2.0572)\n",
      "tensor(2.0265)\n",
      "tensor(1.9970)\n",
      "tensor(1.9684)\n",
      "tensor(1.9411)\n",
      "tensor(1.9152)\n",
      "tensor(1.8907)\n",
      "tensor(1.8676)\n",
      "tensor(1.8461)\n",
      "tensor(1.8264)\n",
      "tensor(1.8085)\n",
      "tensor(1.7916)\n",
      "tensor(1.7756)\n",
      "tensor(1.7613)\n",
      "tensor(1.7477)\n",
      "tensor(1.7348)\n",
      "tensor(1.7225)\n",
      "2.0042219161987305 2.1095597743988037\n"
     ]
    }
   ],
   "source": [
    "import torch\n",
    "\n",
    "# 신경망 모델 포함\n",
    "import torch.nn as nn\n",
    "# 경사하강법 알고리즘 포함\n",
    "import torch.optim as optim\n",
    "# 텐서에 초깃값을 주기 위해 필요한 함수 포함\n",
    "import torch.nn.init as init\n",
    "\n",
    "# 데이터 수\n",
    "num_data = 1000\n",
    "# 경사하강법 반복 횟수\n",
    "num_epoch = 500\n",
    "\n",
    "# x라는 변수에 [num_data, 1] 모양의 텐서를 생성\n",
    "# 텐서의 값들을 init.unifotm_()이라는 함수로 -10부터 10까지 균등하게 초기화\n",
    "x = init.uniform_(torch.Tensor(num_data, 1), -10, 10)\n",
    "noise = init.normal_(torch.FloatTensor(num_data, 1), std=1)\n",
    "y = 2*x + 3\n",
    "y_noise = 2*(x+noise)+3\n",
    "\n",
    "model = nn.Linear(1, 1)\n",
    "loss_func = nn.L1Loss()\n",
    "\n",
    "optimizer = optim.SGD(model.parameters(), lr=0.01)\n",
    "\n",
    "label = y_noise\n",
    "for i in range(num_epoch):\n",
    "    optimizer.zero_grad()\n",
    "    output = model(x)\n",
    "    \n",
    "    loss = loss_func(output, label)\n",
    "    loss.backward()\n",
    "    optimizer.step()\n",
    "    \n",
    "    if i % 10 == 0:\n",
    "        print(loss.data)\n",
    "        \n",
    "param_list = list(model.parameters())\n",
    "print(param_list[0].item(), param_list[1].item())"
   ]
  },
  {
   "cell_type": "code",
   "execution_count": null,
   "metadata": {},
   "outputs": [],
   "source": []
  }
 ],
 "metadata": {
  "kernelspec": {
   "display_name": "Python 3",
   "language": "python",
   "name": "python3"
  },
  "language_info": {
   "codemirror_mode": {
    "name": "ipython",
    "version": 3
   },
   "file_extension": ".py",
   "mimetype": "text/x-python",
   "name": "python",
   "nbconvert_exporter": "python",
   "pygments_lexer": "ipython3",
   "version": "3.7.4"
  }
 },
 "nbformat": 4,
 "nbformat_minor": 2
}
